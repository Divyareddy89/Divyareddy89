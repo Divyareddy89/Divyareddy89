{
 "cells": [
  {
   "cell_type": "markdown",
   "id": "42de7bbf-875f-4401-95c1-37c7968395f3",
   "metadata": {},
   "source": [
    "1) WAP to accept two integers from user and display their sum."
   ]
  },
  {
   "cell_type": "code",
   "execution_count": 1,
   "id": "bbf70a98-3b99-4ebc-8643-190879add476",
   "metadata": {},
   "outputs": [
    {
     "name": "stdin",
     "output_type": "stream",
     "text": [
      "Enter first number 9\n",
      "Enter second number 9\n"
     ]
    },
    {
     "name": "stdout",
     "output_type": "stream",
     "text": [
      "sum of first and secoond number is 18\n"
     ]
    }
   ],
   "source": [
    "a=int(input(\"Enter first number\"))\n",
    "b=int(input(\"Enter second number\"))\n",
    "c=a+b\n",
    "print(\"sum of first and secoond number is\",c)\n"
   ]
  },
  {
   "cell_type": "markdown",
   "id": "df02a059-4dd1-4f50-8626-18448ef7e494",
   "metadata": {},
   "source": [
    "2) WAP to accept radiius of circle from user and calculate area and circumference."
   ]
  },
  {
   "cell_type": "code",
   "execution_count": 7,
   "id": "35179a12-f5a3-451b-8079-c49b720bdcc9",
   "metadata": {},
   "outputs": [
    {
     "name": "stdin",
     "output_type": "stream",
     "text": [
      "Enter radius of the circle 9\n"
     ]
    },
    {
     "name": "stdout",
     "output_type": "stream",
     "text": [
      "Area of circle is 254.50199999999998\n",
      "Circumference of circle is 56.556\n"
     ]
    }
   ],
   "source": [
    "\n",
    "r=float(input(\"Enter radius of the circle\"))\n",
    "cir=2*3.142*r\n",
    "area=3.142*(r**2)\n",
    "print(\"Area of circle is\",area)\n",
    "print(\"Circumference of circle is\",cir)\n"
   ]
  },
  {
   "cell_type": "markdown",
   "id": "b9ffefa2-70f0-4be9-8019-5e13306e549f",
   "metadata": {},
   "source": [
    "3) WAP to accept roll number,grade and percentage as input from user and display it back.\n"
   ]
  },
  {
   "cell_type": "code",
   "execution_count": 15,
   "id": "7749ac4d-5db4-4acb-840f-74bd9f8b609e",
   "metadata": {},
   "outputs": [
    {
     "name": "stdin",
     "output_type": "stream",
     "text": [
      "Enter roll number 9\n",
      "Enter grade A\n",
      "Enter percentage 99\n"
     ]
    },
    {
     "name": "stdout",
     "output_type": "stream",
     "text": [
      "R_no :9\n",
      "Grade:A\n",
      "percentage:99.0 \n",
      "\n"
     ]
    }
   ],
   "source": [
    "R_no=int(input(\"Enter roll number\"))\n",
    "Grade=input(\"Enter grade\")\n",
    "percentage=float(input(\"Enter percentage\"))\n",
    "print(\"R_no :{}\\nGrade:{}\\npercentage:{} \\n\".format(R_no,Grade,percentage))\n",
    "    "
   ]
  },
  {
   "cell_type": "markdown",
   "id": "67c2165d-703e-478a-a1a8-85ef87e82a0c",
   "metadata": {},
   "source": [
    "4) WAP to accept user name and age and display the year when they turn 100 year old. "
   ]
  },
  {
   "cell_type": "code",
   "execution_count": 18,
   "id": "aa445ad1-dd4c-410b-ae0c-9664eb61334b",
   "metadata": {},
   "outputs": [
    {
     "name": "stdin",
     "output_type": "stream",
     "text": [
      "Enter your name G\n",
      "Enter your age 25\n"
     ]
    },
    {
     "name": "stdout",
     "output_type": "stream",
     "text": [
      "Hello G your age is 25 and you will turn 100 in the year 2097\n"
     ]
    }
   ],
   "source": [
    "name=input(\"Enter your name\")\n",
    "age=int(input(\"Enter your age\"))\n",
    "H_year=100-age+2022\n",
    "print(\"Hello {} your age is {} and you will turn 100 in the year {}\".format(name,age,H_year))\n"
   ]
  },
  {
   "cell_type": "markdown",
   "id": "f0e8c29d-9ea6-4242-b7c8-20496e7b5385",
   "metadata": {},
   "source": [
    "5) WAP to accept two integers from user and display sum.Accept both the numbers in single line only."
   ]
  },
  {
   "cell_type": "code",
   "execution_count": 30,
   "id": "698c6d85-58a4-4db1-951b-58c347e48ba2",
   "metadata": {},
   "outputs": [
    {
     "name": "stdin",
     "output_type": "stream",
     "text": [
      "enter two numbers 3\n",
      "\benter second number 4\n"
     ]
    },
    {
     "name": "stdout",
     "output_type": "stream",
     "text": [
      "Sum is= 7\n"
     ]
    }
   ],
   "source": [
    "a,b=int(input(\"enter two numbers\")),int(input(\"enter second number\"))\n",
    "c=a+b\n",
    "print(\"Sum is=\",c)"
   ]
  },
  {
   "cell_type": "markdown",
   "id": "00454eff-fad5-45fb-bb65-9a9c7a1e6468",
   "metadata": {},
   "source": [
    "6) WAP to accept first and last name from user and print them in reverse order with\n",
    "   a space between them."
   ]
  },
  {
   "cell_type": "code",
   "execution_count": 47,
   "id": "86a40192-c0bb-4c94-9125-4c74a8a7eeb8",
   "metadata": {},
   "outputs": [
    {
     "name": "stdin",
     "output_type": "stream",
     "text": [
      "Enter first name dsds\n",
      "Enter last name dsds\n"
     ]
    },
    {
     "name": "stdout",
     "output_type": "stream",
     "text": [
      "sdsd sdsd\n"
     ]
    }
   ],
   "source": [
    "F_name=input(\"Enter first name\")\n",
    "L_name=input(\"Enter last name\")\n",
    "\n",
    "rev1=F_name[::-1]\n",
    "rev2=L_name[::-1]\n",
    "print(rev1,rev2)\n",
    "\n"
   ]
  },
  {
   "cell_type": "code",
   "execution_count": null,
   "id": "7f68489a-4512-4f15-b1cf-aa82a9f8fc3d",
   "metadata": {},
   "outputs": [],
   "source": [
    "\n"
   ]
  }
 ],
 "metadata": {
  "kernelspec": {
   "display_name": "Python 3 (ipykernel)",
   "language": "python",
   "name": "python3"
  },
  "language_info": {
   "codemirror_mode": {
    "name": "ipython",
    "version": 3
   },
   "file_extension": ".py",
   "mimetype": "text/x-python",
   "name": "python",
   "nbconvert_exporter": "python",
   "pygments_lexer": "ipython3",
   "version": "3.10.6"
  }
 },
 "nbformat": 4,
 "nbformat_minor": 5
}
